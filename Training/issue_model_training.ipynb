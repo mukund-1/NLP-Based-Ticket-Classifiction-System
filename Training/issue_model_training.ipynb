{
 "cells": [
  {
   "cell_type": "markdown",
   "id": "09a6f9c8",
   "metadata": {},
   "source": [
    "## Issue type Model"
   ]
  },
  {
   "cell_type": "markdown",
   "id": "19e8711a",
   "metadata": {},
   "source": [
    "### 2. Feature Engineering\n",
    "\n",
    "#### Using Word2Vec technique to convert my preprocessed data into vector"
   ]
  },
  {
   "cell_type": "code",
   "execution_count": 1,
   "id": "2a4c3451",
   "metadata": {},
   "outputs": [],
   "source": [
    "\n",
    "import pandas as pd\n",
    "import numpy as np\n",
    "from gensim.models import Word2Vec"
   ]
  },
  {
   "cell_type": "code",
   "execution_count": 2,
   "id": "87ee2e7d",
   "metadata": {},
   "outputs": [],
   "source": [
    "df = pd.read_csv('../dataset/preprocessed_dataset.csv')"
   ]
  },
  {
   "cell_type": "code",
   "execution_count": 3,
   "id": "4b5a2ad0",
   "metadata": {},
   "outputs": [
    {
     "data": {
      "text/html": [
       "<div>\n",
       "<style scoped>\n",
       "    .dataframe tbody tr th:only-of-type {\n",
       "        vertical-align: middle;\n",
       "    }\n",
       "\n",
       "    .dataframe tbody tr th {\n",
       "        vertical-align: top;\n",
       "    }\n",
       "\n",
       "    .dataframe thead th {\n",
       "        text-align: right;\n",
       "    }\n",
       "</style>\n",
       "<table border=\"1\" class=\"dataframe\">\n",
       "  <thead>\n",
       "    <tr style=\"text-align: right;\">\n",
       "      <th></th>\n",
       "      <th>ticket_id</th>\n",
       "      <th>ticket_text</th>\n",
       "      <th>issue_type</th>\n",
       "      <th>urgency_level</th>\n",
       "      <th>product</th>\n",
       "      <th>preprocessed_tokens</th>\n",
       "    </tr>\n",
       "  </thead>\n",
       "  <tbody>\n",
       "    <tr>\n",
       "      <th>0</th>\n",
       "      <td>1</td>\n",
       "      <td>Payment issue for my SmartWatch V2. I was unde...</td>\n",
       "      <td>Billing Problem</td>\n",
       "      <td>Medium</td>\n",
       "      <td>SmartWatch V2</td>\n",
       "      <td>['payment', 'issue', 'smartwatch', 'v', 'under...</td>\n",
       "    </tr>\n",
       "    <tr>\n",
       "      <th>1</th>\n",
       "      <td>3</td>\n",
       "      <td>I ordered SoundWave 300 but got EcoBreeze AC i...</td>\n",
       "      <td>Wrong Item</td>\n",
       "      <td>Medium</td>\n",
       "      <td>SoundWave 300</td>\n",
       "      <td>['order', 'soundwave', 'get', 'ecobreeze', 'ac...</td>\n",
       "    </tr>\n",
       "    <tr>\n",
       "      <th>2</th>\n",
       "      <td>4</td>\n",
       "      <td>Facing installation issue with PhotoSnap Cam. ...</td>\n",
       "      <td>Installation Issue</td>\n",
       "      <td>Low</td>\n",
       "      <td>PhotoSnap Cam</td>\n",
       "      <td>['face', 'installation', 'issue', 'photosnap',...</td>\n",
       "    </tr>\n",
       "    <tr>\n",
       "      <th>3</th>\n",
       "      <td>6</td>\n",
       "      <td>Can you tell me more about the PhotoSnap Cam w...</td>\n",
       "      <td>General Inquiry</td>\n",
       "      <td>Medium</td>\n",
       "      <td>PhotoSnap Cam</td>\n",
       "      <td>['tell', 'photosnap', 'cam', 'warranty', 'also...</td>\n",
       "    </tr>\n",
       "    <tr>\n",
       "      <th>4</th>\n",
       "      <td>7</td>\n",
       "      <td>is malfunction. It stopped working after just...</td>\n",
       "      <td>Product Defect</td>\n",
       "      <td>Low</td>\n",
       "      <td>EcoBreeze AC</td>\n",
       "      <td>['malfunction', 'stop', 'work', 'day']</td>\n",
       "    </tr>\n",
       "    <tr>\n",
       "      <th>...</th>\n",
       "      <td>...</td>\n",
       "      <td>...</td>\n",
       "      <td>...</td>\n",
       "      <td>...</td>\n",
       "      <td>...</td>\n",
       "      <td>...</td>\n",
       "    </tr>\n",
       "    <tr>\n",
       "      <th>821</th>\n",
       "      <td>995</td>\n",
       "      <td>Is this item in stock?</td>\n",
       "      <td>General Inquiry</td>\n",
       "      <td>High</td>\n",
       "      <td>RoboChef Blender</td>\n",
       "      <td>['item', 'stock']</td>\n",
       "    </tr>\n",
       "    <tr>\n",
       "      <th>822</th>\n",
       "      <td>996</td>\n",
       "      <td>I ordered EcoBreeze AC but got FitRun Treadmil...</td>\n",
       "      <td>Wrong Item</td>\n",
       "      <td>High</td>\n",
       "      <td>EcoBreeze AC</td>\n",
       "      <td>['order', 'ecobreeze', 'ac', 'get', 'fitrun', ...</td>\n",
       "    </tr>\n",
       "    <tr>\n",
       "      <th>823</th>\n",
       "      <td>997</td>\n",
       "      <td>I ordered SoundWave 300 but got PowerMax Batte...</td>\n",
       "      <td>Wrong Item</td>\n",
       "      <td>Low</td>\n",
       "      <td>SoundWave 300</td>\n",
       "      <td>['order', 'soundwave', 'get', 'powermax', 'bat...</td>\n",
       "    </tr>\n",
       "    <tr>\n",
       "      <th>824</th>\n",
       "      <td>999</td>\n",
       "      <td>Payment issue fr mi SoundWave 300. I was debit...</td>\n",
       "      <td>Billing Problem</td>\n",
       "      <td>Low</td>\n",
       "      <td>SoundWave 300</td>\n",
       "      <td>['payment', 'issue', 'fr', 'mi', 'soundwave', ...</td>\n",
       "    </tr>\n",
       "    <tr>\n",
       "      <th>825</th>\n",
       "      <td>1000</td>\n",
       "      <td>PowerMax Battery is missing. It stopped workin...</td>\n",
       "      <td>Product Defect</td>\n",
       "      <td>Low</td>\n",
       "      <td>PowerMax Battery</td>\n",
       "      <td>['powermax', 'battery', 'miss', 'stop', 'work'...</td>\n",
       "    </tr>\n",
       "  </tbody>\n",
       "</table>\n",
       "<p>826 rows × 6 columns</p>\n",
       "</div>"
      ],
      "text/plain": [
       "     ticket_id                                        ticket_text  \\\n",
       "0            1  Payment issue for my SmartWatch V2. I was unde...   \n",
       "1            3  I ordered SoundWave 300 but got EcoBreeze AC i...   \n",
       "2            4  Facing installation issue with PhotoSnap Cam. ...   \n",
       "3            6  Can you tell me more about the PhotoSnap Cam w...   \n",
       "4            7   is malfunction. It stopped working after just...   \n",
       "..         ...                                                ...   \n",
       "821        995                             Is this item in stock?   \n",
       "822        996  I ordered EcoBreeze AC but got FitRun Treadmil...   \n",
       "823        997  I ordered SoundWave 300 but got PowerMax Batte...   \n",
       "824        999  Payment issue fr mi SoundWave 300. I was debit...   \n",
       "825       1000  PowerMax Battery is missing. It stopped workin...   \n",
       "\n",
       "             issue_type urgency_level           product  \\\n",
       "0       Billing Problem        Medium     SmartWatch V2   \n",
       "1            Wrong Item        Medium     SoundWave 300   \n",
       "2    Installation Issue           Low     PhotoSnap Cam   \n",
       "3       General Inquiry        Medium     PhotoSnap Cam   \n",
       "4        Product Defect           Low      EcoBreeze AC   \n",
       "..                  ...           ...               ...   \n",
       "821     General Inquiry          High  RoboChef Blender   \n",
       "822          Wrong Item          High      EcoBreeze AC   \n",
       "823          Wrong Item           Low     SoundWave 300   \n",
       "824     Billing Problem           Low     SoundWave 300   \n",
       "825      Product Defect           Low  PowerMax Battery   \n",
       "\n",
       "                                   preprocessed_tokens  \n",
       "0    ['payment', 'issue', 'smartwatch', 'v', 'under...  \n",
       "1    ['order', 'soundwave', 'get', 'ecobreeze', 'ac...  \n",
       "2    ['face', 'installation', 'issue', 'photosnap',...  \n",
       "3    ['tell', 'photosnap', 'cam', 'warranty', 'also...  \n",
       "4               ['malfunction', 'stop', 'work', 'day']  \n",
       "..                                                 ...  \n",
       "821                                  ['item', 'stock']  \n",
       "822  ['order', 'ecobreeze', 'ac', 'get', 'fitrun', ...  \n",
       "823  ['order', 'soundwave', 'get', 'powermax', 'bat...  \n",
       "824  ['payment', 'issue', 'fr', 'mi', 'soundwave', ...  \n",
       "825  ['powermax', 'battery', 'miss', 'stop', 'work'...  \n",
       "\n",
       "[826 rows x 6 columns]"
      ]
     },
     "execution_count": 3,
     "metadata": {},
     "output_type": "execute_result"
    }
   ],
   "source": [
    "df"
   ]
  },
  {
   "cell_type": "code",
   "execution_count": 4,
   "id": "b783ab3a",
   "metadata": {},
   "outputs": [],
   "source": [
    "w2v_model = Word2Vec(sentences=df['preprocessed_tokens'], vector_size=100, window=5, min_count=1, workers=4, seed=42)"
   ]
  },
  {
   "cell_type": "code",
   "execution_count": 5,
   "id": "0baae80c",
   "metadata": {},
   "outputs": [
    {
     "data": {
      "text/plain": [
       "defaultdict(int, {})"
      ]
     },
     "execution_count": 5,
     "metadata": {},
     "output_type": "execute_result"
    }
   ],
   "source": [
    "w2v_model.raw_vocab"
   ]
  },
  {
   "cell_type": "code",
   "execution_count": 6,
   "id": "cd61a1ea",
   "metadata": {},
   "outputs": [],
   "source": [
    "def document_vector(tokens, model):\n",
    "    \n",
    "    # Removing out-of-vocab words\n",
    "    tokens = [word for word in tokens if word in model.wv]\n",
    "    if len(tokens) == 0:\n",
    "        return np.zeros(model.vector_size)\n",
    "    return np.mean(model.wv[tokens], axis=0)"
   ]
  },
  {
   "cell_type": "code",
   "execution_count": 7,
   "id": "e5570b73",
   "metadata": {},
   "outputs": [],
   "source": [
    "X_w2v = np.vstack(df['preprocessed_tokens'].apply(lambda tokens: document_vector(tokens, w2v_model)).values)\n",
    "y = df['issue_type']"
   ]
  },
  {
   "cell_type": "code",
   "execution_count": 8,
   "id": "a2594248",
   "metadata": {},
   "outputs": [
    {
     "data": {
      "text/plain": [
       "array([[-0.03835633,  0.01621188,  0.12592445, ...,  0.13041556,\n",
       "        -0.11522511, -0.10828656],\n",
       "       [-0.02761844,  0.02240099,  0.12205932, ...,  0.12959276,\n",
       "        -0.11338402, -0.11029061],\n",
       "       [-0.05680327,  0.00433684,  0.13940741, ...,  0.12366535,\n",
       "        -0.11794174, -0.1124865 ],\n",
       "       ...,\n",
       "       [-0.03514046,  0.01610858,  0.12875716, ...,  0.12810971,\n",
       "        -0.11484641, -0.11253895],\n",
       "       [-0.03865514,  0.01668728,  0.12724738, ...,  0.13115376,\n",
       "        -0.11548582, -0.10942892],\n",
       "       [-0.03420815,  0.01476219,  0.12976038, ...,  0.13020842,\n",
       "        -0.1137853 , -0.11635811]], dtype=float32)"
      ]
     },
     "execution_count": 8,
     "metadata": {},
     "output_type": "execute_result"
    }
   ],
   "source": [
    "X_w2v"
   ]
  },
  {
   "cell_type": "code",
   "execution_count": 9,
   "id": "48ee7413",
   "metadata": {},
   "outputs": [
    {
     "data": {
      "text/plain": [
       "0         Billing Problem\n",
       "1              Wrong Item\n",
       "2      Installation Issue\n",
       "3         General Inquiry\n",
       "4          Product Defect\n",
       "              ...        \n",
       "821       General Inquiry\n",
       "822            Wrong Item\n",
       "823            Wrong Item\n",
       "824       Billing Problem\n",
       "825        Product Defect\n",
       "Name: issue_type, Length: 826, dtype: object"
      ]
     },
     "execution_count": 9,
     "metadata": {},
     "output_type": "execute_result"
    }
   ],
   "source": [
    "y"
   ]
  },
  {
   "cell_type": "code",
   "execution_count": 10,
   "id": "8d9be57d",
   "metadata": {},
   "outputs": [],
   "source": [
    "# Saving my Word2Vec model\n",
    "w2v_model.save('../models/w2v_model.model')"
   ]
  },
  {
   "cell_type": "markdown",
   "id": "4406bae5",
   "metadata": {},
   "source": [
    "### Creating extra feature [ Text length, Sentiment Score]"
   ]
  },
  {
   "cell_type": "code",
   "execution_count": 11,
   "id": "3e50b35b",
   "metadata": {},
   "outputs": [],
   "source": [
    "from textblob import TextBlob\n",
    "\n",
    "def extract_custom_features(text_series):\n",
    "    # Extracts length and sentiment\n",
    "    text_length = text_series.apply(len)\n",
    "    sentiment = text_series.apply(lambda x: TextBlob(x).sentiment.polarity)\n",
    "    return pd.DataFrame({\n",
    "        'text_length': text_length,\n",
    "        'sentiment': sentiment\n",
    "    })"
   ]
  },
  {
   "cell_type": "code",
   "execution_count": 12,
   "id": "570f8e88",
   "metadata": {},
   "outputs": [],
   "source": [
    "extra_features = extract_custom_features(df['ticket_text'])"
   ]
  },
  {
   "cell_type": "code",
   "execution_count": 13,
   "id": "c8109eda",
   "metadata": {},
   "outputs": [
    {
     "data": {
      "text/html": [
       "<div>\n",
       "<style scoped>\n",
       "    .dataframe tbody tr th:only-of-type {\n",
       "        vertical-align: middle;\n",
       "    }\n",
       "\n",
       "    .dataframe tbody tr th {\n",
       "        vertical-align: top;\n",
       "    }\n",
       "\n",
       "    .dataframe thead th {\n",
       "        text-align: right;\n",
       "    }\n",
       "</style>\n",
       "<table border=\"1\" class=\"dataframe\">\n",
       "  <thead>\n",
       "    <tr style=\"text-align: right;\">\n",
       "      <th></th>\n",
       "      <th>text_length</th>\n",
       "      <th>sentiment</th>\n",
       "    </tr>\n",
       "  </thead>\n",
       "  <tbody>\n",
       "    <tr>\n",
       "      <th>0</th>\n",
       "      <td>71</td>\n",
       "      <td>0.0</td>\n",
       "    </tr>\n",
       "    <tr>\n",
       "      <th>1</th>\n",
       "      <td>80</td>\n",
       "      <td>0.0</td>\n",
       "    </tr>\n",
       "    <tr>\n",
       "      <th>2</th>\n",
       "      <td>68</td>\n",
       "      <td>-0.5</td>\n",
       "    </tr>\n",
       "    <tr>\n",
       "      <th>3</th>\n",
       "      <td>84</td>\n",
       "      <td>0.3</td>\n",
       "    </tr>\n",
       "    <tr>\n",
       "      <th>4</th>\n",
       "      <td>54</td>\n",
       "      <td>0.0</td>\n",
       "    </tr>\n",
       "    <tr>\n",
       "      <th>...</th>\n",
       "      <td>...</td>\n",
       "      <td>...</td>\n",
       "    </tr>\n",
       "    <tr>\n",
       "      <th>821</th>\n",
       "      <td>22</td>\n",
       "      <td>0.0</td>\n",
       "    </tr>\n",
       "    <tr>\n",
       "      <th>822</th>\n",
       "      <td>83</td>\n",
       "      <td>0.0</td>\n",
       "    </tr>\n",
       "    <tr>\n",
       "      <th>823</th>\n",
       "      <td>143</td>\n",
       "      <td>0.0</td>\n",
       "    </tr>\n",
       "    <tr>\n",
       "      <th>824</th>\n",
       "      <td>77</td>\n",
       "      <td>0.0</td>\n",
       "    </tr>\n",
       "    <tr>\n",
       "      <th>825</th>\n",
       "      <td>66</td>\n",
       "      <td>-0.2</td>\n",
       "    </tr>\n",
       "  </tbody>\n",
       "</table>\n",
       "<p>826 rows × 2 columns</p>\n",
       "</div>"
      ],
      "text/plain": [
       "     text_length  sentiment\n",
       "0             71        0.0\n",
       "1             80        0.0\n",
       "2             68       -0.5\n",
       "3             84        0.3\n",
       "4             54        0.0\n",
       "..           ...        ...\n",
       "821           22        0.0\n",
       "822           83        0.0\n",
       "823          143        0.0\n",
       "824           77        0.0\n",
       "825           66       -0.2\n",
       "\n",
       "[826 rows x 2 columns]"
      ]
     },
     "execution_count": 13,
     "metadata": {},
     "output_type": "execute_result"
    }
   ],
   "source": [
    "extra_features"
   ]
  },
  {
   "cell_type": "code",
   "execution_count": 14,
   "id": "69ae0dea",
   "metadata": {},
   "outputs": [],
   "source": [
    "from sklearn.preprocessing import FunctionTransformer\n",
    "\n",
    "# Create transformer\n",
    "custom_feature_transformer = FunctionTransformer(extract_custom_features, validate=False)\n",
    "\n",
    "# Example usage\n",
    "features = custom_feature_transformer.transform(df['ticket_text'])"
   ]
  },
  {
   "cell_type": "code",
   "execution_count": 15,
   "id": "ba3e5e87",
   "metadata": {},
   "outputs": [
    {
     "data": {
      "text/html": [
       "<div>\n",
       "<style scoped>\n",
       "    .dataframe tbody tr th:only-of-type {\n",
       "        vertical-align: middle;\n",
       "    }\n",
       "\n",
       "    .dataframe tbody tr th {\n",
       "        vertical-align: top;\n",
       "    }\n",
       "\n",
       "    .dataframe thead th {\n",
       "        text-align: right;\n",
       "    }\n",
       "</style>\n",
       "<table border=\"1\" class=\"dataframe\">\n",
       "  <thead>\n",
       "    <tr style=\"text-align: right;\">\n",
       "      <th></th>\n",
       "      <th>text_length</th>\n",
       "      <th>sentiment</th>\n",
       "    </tr>\n",
       "  </thead>\n",
       "  <tbody>\n",
       "    <tr>\n",
       "      <th>0</th>\n",
       "      <td>71</td>\n",
       "      <td>0.0</td>\n",
       "    </tr>\n",
       "    <tr>\n",
       "      <th>1</th>\n",
       "      <td>80</td>\n",
       "      <td>0.0</td>\n",
       "    </tr>\n",
       "    <tr>\n",
       "      <th>2</th>\n",
       "      <td>68</td>\n",
       "      <td>-0.5</td>\n",
       "    </tr>\n",
       "    <tr>\n",
       "      <th>3</th>\n",
       "      <td>84</td>\n",
       "      <td>0.3</td>\n",
       "    </tr>\n",
       "    <tr>\n",
       "      <th>4</th>\n",
       "      <td>54</td>\n",
       "      <td>0.0</td>\n",
       "    </tr>\n",
       "    <tr>\n",
       "      <th>...</th>\n",
       "      <td>...</td>\n",
       "      <td>...</td>\n",
       "    </tr>\n",
       "    <tr>\n",
       "      <th>821</th>\n",
       "      <td>22</td>\n",
       "      <td>0.0</td>\n",
       "    </tr>\n",
       "    <tr>\n",
       "      <th>822</th>\n",
       "      <td>83</td>\n",
       "      <td>0.0</td>\n",
       "    </tr>\n",
       "    <tr>\n",
       "      <th>823</th>\n",
       "      <td>143</td>\n",
       "      <td>0.0</td>\n",
       "    </tr>\n",
       "    <tr>\n",
       "      <th>824</th>\n",
       "      <td>77</td>\n",
       "      <td>0.0</td>\n",
       "    </tr>\n",
       "    <tr>\n",
       "      <th>825</th>\n",
       "      <td>66</td>\n",
       "      <td>-0.2</td>\n",
       "    </tr>\n",
       "  </tbody>\n",
       "</table>\n",
       "<p>826 rows × 2 columns</p>\n",
       "</div>"
      ],
      "text/plain": [
       "     text_length  sentiment\n",
       "0             71        0.0\n",
       "1             80        0.0\n",
       "2             68       -0.5\n",
       "3             84        0.3\n",
       "4             54        0.0\n",
       "..           ...        ...\n",
       "821           22        0.0\n",
       "822           83        0.0\n",
       "823          143        0.0\n",
       "824           77        0.0\n",
       "825           66       -0.2\n",
       "\n",
       "[826 rows x 2 columns]"
      ]
     },
     "execution_count": 15,
     "metadata": {},
     "output_type": "execute_result"
    }
   ],
   "source": [
    "features"
   ]
  },
  {
   "cell_type": "code",
   "execution_count": 16,
   "id": "a2569c38",
   "metadata": {},
   "outputs": [],
   "source": [
    "import joblib"
   ]
  },
  {
   "cell_type": "code",
   "execution_count": 17,
   "id": "e896a580",
   "metadata": {},
   "outputs": [
    {
     "data": {
      "text/plain": [
       "['../models/custom_feature_transformer.pkl']"
      ]
     },
     "execution_count": 17,
     "metadata": {},
     "output_type": "execute_result"
    }
   ],
   "source": [
    "# Save the custom feature transformer\n",
    "joblib.dump(custom_feature_transformer, '../models/custom_feature_transformer.pkl')"
   ]
  },
  {
   "cell_type": "code",
   "execution_count": 18,
   "id": "7ba3623a",
   "metadata": {},
   "outputs": [],
   "source": [
    "# Combining extra_features (DataFrame) and X_w2v (numpy array) into a single feature matrix X\n",
    "\n",
    "X = np.hstack([extra_features.values, X_w2v])"
   ]
  },
  {
   "cell_type": "code",
   "execution_count": 19,
   "id": "cb9cde61",
   "metadata": {},
   "outputs": [
    {
     "data": {
      "text/plain": [
       "array([[ 7.10000000e+01,  0.00000000e+00, -3.83563340e-02, ...,\n",
       "         1.30415559e-01, -1.15225114e-01, -1.08286560e-01],\n",
       "       [ 8.00000000e+01,  0.00000000e+00, -2.76184417e-02, ...,\n",
       "         1.29592761e-01, -1.13384023e-01, -1.10290609e-01],\n",
       "       [ 6.80000000e+01, -5.00000000e-01, -5.68032674e-02, ...,\n",
       "         1.23665348e-01, -1.17941745e-01, -1.12486497e-01],\n",
       "       ...,\n",
       "       [ 1.43000000e+02,  0.00000000e+00, -3.51404585e-02, ...,\n",
       "         1.28109708e-01, -1.14846408e-01, -1.12538949e-01],\n",
       "       [ 7.70000000e+01,  0.00000000e+00, -3.86551432e-02, ...,\n",
       "         1.31153762e-01, -1.15485817e-01, -1.09428920e-01],\n",
       "       [ 6.60000000e+01, -2.00000000e-01, -3.42081487e-02, ...,\n",
       "         1.30208418e-01, -1.13785297e-01, -1.16358109e-01]])"
      ]
     },
     "execution_count": 19,
     "metadata": {},
     "output_type": "execute_result"
    }
   ],
   "source": [
    "X"
   ]
  },
  {
   "cell_type": "code",
   "execution_count": 20,
   "id": "e9249e0c",
   "metadata": {},
   "outputs": [],
   "source": [
    "from sklearn.model_selection import train_test_split\n",
    "\n",
    "X_train_issue, X_test_issue, y_train_issue, y_test_issue = train_test_split(X, y, test_size=0.2, stratify=y, random_state=42\n",
    ")"
   ]
  },
  {
   "cell_type": "code",
   "execution_count": 21,
   "id": "b9c98c23",
   "metadata": {},
   "outputs": [
    {
     "data": {
      "text/plain": [
       "array([[ 7.70000000e+01,  0.00000000e+00, -4.20316011e-02, ...,\n",
       "         1.25635013e-01, -1.16944209e-01, -1.17210083e-01],\n",
       "       [ 1.14000000e+02, -3.00000000e-01, -3.76265682e-02, ...,\n",
       "         1.28414065e-01, -1.15328103e-01, -1.13157041e-01],\n",
       "       [ 1.23000000e+02, -5.00000000e-01, -4.90929224e-02, ...,\n",
       "         1.25079900e-01, -1.17152065e-01, -1.14220090e-01],\n",
       "       ...,\n",
       "       [ 5.40000000e+01, -3.00000000e-01, -2.74011977e-02, ...,\n",
       "         1.34094074e-01, -1.12723649e-01, -1.08312480e-01],\n",
       "       [ 1.01000000e+02, -1.00000000e-01, -3.68981063e-02, ...,\n",
       "         1.30426228e-01, -1.14954956e-01, -1.07263356e-01],\n",
       "       [ 8.50000000e+01,  2.44444444e-01, -4.11610343e-02, ...,\n",
       "         1.30203813e-01, -1.19940065e-01, -1.10152148e-01]])"
      ]
     },
     "execution_count": 21,
     "metadata": {},
     "output_type": "execute_result"
    }
   ],
   "source": [
    "X_train_issue\n"
   ]
  },
  {
   "cell_type": "code",
   "execution_count": 22,
   "id": "d1e98d6b",
   "metadata": {},
   "outputs": [
    {
     "data": {
      "text/plain": [
       "458        Account Access\n",
       "784         Late Delivery\n",
       "404    Installation Issue\n",
       "734        Account Access\n",
       "610       General Inquiry\n",
       "              ...        \n",
       "646        Product Defect\n",
       "406    Installation Issue\n",
       "352         Late Delivery\n",
       "338       Billing Problem\n",
       "645       General Inquiry\n",
       "Name: issue_type, Length: 660, dtype: object"
      ]
     },
     "execution_count": 22,
     "metadata": {},
     "output_type": "execute_result"
    }
   ],
   "source": [
    "y_train_issue"
   ]
  },
  {
   "cell_type": "code",
   "execution_count": 23,
   "id": "4c2f8ce5",
   "metadata": {},
   "outputs": [],
   "source": [
    "from sklearn.preprocessing import LabelEncoder\n",
    "\n",
    "issue_encoder = LabelEncoder()\n",
    "\n",
    "y_issue_train_enc = issue_encoder.fit_transform(y_train_issue)\n",
    "y_issue_test_enc = issue_encoder.transform(y_test_issue)"
   ]
  },
  {
   "cell_type": "code",
   "execution_count": 24,
   "id": "1490660b",
   "metadata": {},
   "outputs": [
    {
     "data": {
      "text/plain": [
       "array([0, 4, 3, 0, 2, 4, 5, 6, 3, 3, 5, 5, 1, 6, 1, 3, 6, 0, 6, 3, 5, 4,\n",
       "       5, 2, 6, 0, 5, 4, 6, 2, 1, 2, 4, 5, 2, 0, 1, 6, 3, 2, 0, 1, 6, 2,\n",
       "       1, 6, 2, 2, 2, 3, 0, 1, 0, 2, 6, 0, 2, 0, 5, 2, 1, 2, 0, 1, 0, 1,\n",
       "       3, 2, 0, 2, 0, 2, 0, 1, 6, 1, 4, 2, 5, 4, 3, 2, 1, 6, 4, 5, 0, 6,\n",
       "       2, 1, 4, 2, 6, 6, 5, 3, 1, 5, 3, 4, 0, 3, 6, 6, 4, 1, 1, 2, 0, 1,\n",
       "       4, 3, 0, 6, 3, 1, 2, 3, 6, 2, 4, 1, 3, 4, 6, 2, 1, 1, 2, 4, 6, 3,\n",
       "       6, 3, 2, 6, 6, 2, 1, 0, 2, 3, 5, 6, 0, 1, 3, 0, 2, 0, 2, 4, 3, 2,\n",
       "       4, 1, 4, 2, 5, 0, 0, 6, 2, 3, 5, 0, 4, 3, 0, 6, 2, 3, 5, 0, 0, 5,\n",
       "       5, 0, 4, 3, 3, 4, 0, 5, 2, 6, 0, 1, 3, 0, 5, 6, 3, 4, 0, 3, 0, 5,\n",
       "       1, 6, 3, 3, 6, 1, 5, 1, 0, 0, 1, 6, 0, 2, 4, 1, 1, 0, 1, 5, 2, 0,\n",
       "       6, 2, 1, 5, 5, 5, 4, 4, 5, 3, 2, 6, 1, 5, 2, 0, 0, 4, 3, 2, 4, 3,\n",
       "       3, 3, 6, 4, 6, 0, 0, 1, 2, 3, 3, 2, 0, 0, 6, 5, 2, 0, 1, 1, 3, 4,\n",
       "       6, 2, 1, 5, 6, 1, 4, 3, 0, 0, 1, 1, 0, 2, 2, 3, 2, 6, 2, 1, 2, 3,\n",
       "       6, 5, 4, 0, 1, 5, 1, 3, 2, 1, 5, 4, 1, 3, 1, 6, 3, 2, 1, 0, 4, 3,\n",
       "       5, 6, 5, 2, 5, 4, 1, 1, 3, 1, 6, 4, 1, 0, 4, 4, 3, 1, 1, 4, 5, 6,\n",
       "       4, 6, 2, 4, 0, 6, 2, 0, 6, 1, 4, 5, 6, 3, 1, 6, 5, 4, 2, 4, 1, 2,\n",
       "       2, 6, 5, 4, 1, 3, 6, 5, 3, 0, 1, 4, 2, 2, 5, 2, 5, 1, 4, 5, 5, 3,\n",
       "       3, 6, 3, 5, 1, 4, 5, 6, 6, 6, 5, 6, 1, 2, 5, 4, 6, 1, 4, 5, 5, 5,\n",
       "       1, 2, 3, 0, 4, 6, 5, 5, 1, 5, 6, 4, 4, 3, 5, 1, 1, 5, 4, 4, 2, 5,\n",
       "       5, 1, 1, 0, 0, 3, 4, 1, 1, 2, 0, 0, 2, 4, 4, 3, 4, 0, 2, 0, 1, 0,\n",
       "       5, 6, 3, 3, 6, 1, 2, 2, 2, 3, 2, 5, 3, 2, 3, 3, 4, 0, 3, 5, 2, 5,\n",
       "       0, 0, 4, 5, 4, 3, 3, 3, 4, 2, 4, 3, 6, 2, 6, 0, 4, 5, 3, 3, 4, 2,\n",
       "       5, 3, 0, 3, 3, 0, 1, 1, 0, 6, 1, 6, 3, 2, 0, 1, 3, 1, 2, 5, 3, 3,\n",
       "       1, 3, 2, 0, 5, 1, 0, 0, 1, 1, 2, 5, 3, 3, 2, 1, 4, 6, 3, 1, 4, 5,\n",
       "       1, 0, 0, 4, 3, 0, 2, 2, 0, 2, 1, 6, 4, 6, 5, 5, 2, 4, 2, 3, 3, 4,\n",
       "       3, 2, 5, 4, 5, 3, 0, 4, 5, 2, 6, 1, 1, 6, 0, 3, 0, 2, 5, 1, 5, 6,\n",
       "       6, 0, 2, 2, 0, 6, 4, 1, 0, 5, 2, 6, 3, 0, 0, 3, 6, 3, 3, 2, 6, 0,\n",
       "       4, 5, 6, 2, 2, 0, 2, 0, 3, 5, 0, 1, 3, 0, 2, 2, 1, 0, 6, 0, 0, 6,\n",
       "       0, 3, 5, 2, 5, 3, 5, 6, 4, 0, 3, 0, 0, 0, 6, 1, 2, 3, 5, 3, 0, 1,\n",
       "       1, 0, 1, 1, 4, 0, 5, 0, 5, 3, 3, 1, 1, 1, 0, 5, 0, 5, 3, 4, 1, 2])"
      ]
     },
     "execution_count": 24,
     "metadata": {},
     "output_type": "execute_result"
    }
   ],
   "source": [
    "y_issue_train_enc"
   ]
  },
  {
   "cell_type": "code",
   "execution_count": 25,
   "id": "f1addee0",
   "metadata": {},
   "outputs": [],
   "source": [
    "from sklearn.model_selection import RandomizedSearchCV\n",
    "from sklearn.metrics import accuracy_score, f1_score, classification_report, log_loss\n",
    "from sklearn.linear_model import LogisticRegression\n",
    "from sklearn.svm import LinearSVC\n",
    "from sklearn.ensemble import RandomForestClassifier\n",
    "import xgboost as xgb\n",
    "from scipy.special import softmax\n",
    "from tqdm import tqdm"
   ]
  },
  {
   "cell_type": "markdown",
   "id": "b61eb551",
   "metadata": {},
   "source": [
    "#### Function for hyperparameter tuning"
   ]
  },
  {
   "cell_type": "code",
   "execution_count": 26,
   "id": "fabbbe38",
   "metadata": {},
   "outputs": [],
   "source": [
    "def hyperparameter_tuning(X_train, y_train, X_val, y_val, models_params, \n",
    "                          scoring='f1_weighted', n_iter=20, cv=3, random_state=42):\n",
    "\n",
    "    results = []\n",
    "    best_score = -np.inf\n",
    "    best_model = None\n",
    "    best_name = None\n",
    "\n",
    "    for name, (model, param_dist) in tqdm(models_params.items(), desc=\"Tuning models\"):\n",
    "        print(f\"\\n Tuning {name}...\")\n",
    "        try:\n",
    "            search = RandomizedSearchCV(\n",
    "                model, param_distributions=param_dist,\n",
    "                n_iter=n_iter, scoring=scoring, cv=cv,\n",
    "                random_state=random_state, n_jobs=-1, verbose=0\n",
    "            )\n",
    "            \n",
    "            search.fit(X_train, y_train)\n",
    "\n",
    "            y_pred = search.predict(X_val)\n",
    "            acc = accuracy_score(y_val, y_pred)\n",
    "            f1 = f1_score(y_val, y_pred, average='weighted')\n",
    "            \n",
    "            y_pred_proba = None\n",
    "            if hasattr(search.best_estimator_, \"predict_proba\"):\n",
    "                y_pred_proba = search.predict_proba(X_val)\n",
    "            elif hasattr(search.best_estimator_, \"decision_function\"):\n",
    "                y_pred_proba = softmax(search.decision_function(X_val), axis=1)\n",
    "\n",
    "            loss = log_loss(y_val, y_pred_proba) if y_pred_proba is not None else None\n",
    "\n",
    "            results.append({\n",
    "                'model': name,\n",
    "                'best_params': search.best_params_,\n",
    "                'accuracy': acc,\n",
    "                'f1_score': f1,\n",
    "                'log_loss': loss\n",
    "            })\n",
    "\n",
    "            if f1 > best_score:\n",
    "                best_score = f1\n",
    "                best_model = search.best_estimator_\n",
    "                best_name = name\n",
    "\n",
    "        except Exception as e:\n",
    "            print(f\" Error with {name}: {e}\")\n",
    "            results.append({\n",
    "                'model': name,\n",
    "                'best_params': None,\n",
    "                'accuracy': None,\n",
    "                'f1_score': None,\n",
    "                'log_loss': None\n",
    "            })\n",
    "\n",
    "    results_df = pd.DataFrame(results).sort_values(by='f1_score', ascending=False)\n",
    "\n",
    "    return best_model, best_score, results_df\n",
    "\n"
   ]
  },
  {
   "cell_type": "code",
   "execution_count": 27,
   "id": "50349c99",
   "metadata": {},
   "outputs": [],
   "source": [
    "models_params = {\n",
    "    'LogisticRegression': (\n",
    "        LogisticRegression(max_iter=1000, class_weight='balanced', solver='saga'),\n",
    "        {\n",
    "            'C': [0.01, 0.1, 1, 10, 100],\n",
    "            'penalty': ['l1', 'l2']\n",
    "        }\n",
    "    ),\n",
    "    'LinearSVC': (\n",
    "        LinearSVC(max_iter=10000, class_weight='balanced'),\n",
    "        {\n",
    "            'C': [0.01, 0.1, 1, 10, 100]\n",
    "        }\n",
    "    ),\n",
    "    # 'MultinomialNB' is removed because input features contain negative values\n",
    "    'RandomForest': (\n",
    "        RandomForestClassifier(class_weight='balanced', n_jobs=-1),\n",
    "        {\n",
    "            'n_estimators': [50, 100, 200],\n",
    "            'max_depth': [5, 10, 20, None],\n",
    "            'min_samples_split': [2, 5, 10]\n",
    "        }\n",
    "    ),\n",
    "    'XGBoost': (\n",
    "        xgb.XGBClassifier(use_label_encoder=False, eval_metric='mlogloss'),\n",
    "        {\n",
    "            'n_estimators': [50, 100, 200],\n",
    "            'max_depth': [3, 5, 10],\n",
    "            'learning_rate': [0.01, 0.1, 0.2],\n",
    "            'subsample': [0.7, 0.8, 1.0]\n",
    "        }\n",
    "    )\n",
    "}\n"
   ]
  },
  {
   "cell_type": "code",
   "execution_count": 28,
   "id": "f23b4072",
   "metadata": {},
   "outputs": [
    {
     "name": "stderr",
     "output_type": "stream",
     "text": [
      "Tuning models:   0%|          | 0/4 [00:00<?, ?it/s]c:\\Users\\mukun\\OneDrive\\Desktop\\Vijayi_WFH technology\\Task1-Ticket classification\\venv\\Lib\\site-packages\\sklearn\\model_selection\\_search.py:317: UserWarning: The total space of parameters 10 is smaller than n_iter=20. Running 10 iterations. For exhaustive searches, use GridSearchCV.\n",
      "  warnings.warn(\n"
     ]
    },
    {
     "name": "stdout",
     "output_type": "stream",
     "text": [
      "\n",
      " Tuning LogisticRegression...\n"
     ]
    },
    {
     "name": "stderr",
     "output_type": "stream",
     "text": [
      "c:\\Users\\mukun\\OneDrive\\Desktop\\Vijayi_WFH technology\\Task1-Ticket classification\\venv\\Lib\\site-packages\\sklearn\\linear_model\\_sag.py:348: ConvergenceWarning: The max_iter was reached which means the coef_ did not converge\n",
      "  warnings.warn(\n",
      "Tuning models:  25%|██▌       | 1/4 [00:19<00:57, 19.11s/it]c:\\Users\\mukun\\OneDrive\\Desktop\\Vijayi_WFH technology\\Task1-Ticket classification\\venv\\Lib\\site-packages\\sklearn\\model_selection\\_search.py:317: UserWarning: The total space of parameters 5 is smaller than n_iter=20. Running 5 iterations. For exhaustive searches, use GridSearchCV.\n",
      "  warnings.warn(\n"
     ]
    },
    {
     "name": "stdout",
     "output_type": "stream",
     "text": [
      "\n",
      " Tuning LinearSVC...\n"
     ]
    },
    {
     "name": "stderr",
     "output_type": "stream",
     "text": [
      "Tuning models:  50%|█████     | 2/4 [00:19<00:16,  8.01s/it]"
     ]
    },
    {
     "name": "stdout",
     "output_type": "stream",
     "text": [
      "\n",
      " Tuning RandomForest...\n"
     ]
    },
    {
     "name": "stderr",
     "output_type": "stream",
     "text": [
      "Tuning models:  75%|███████▌  | 3/4 [00:25<00:07,  7.27s/it]"
     ]
    },
    {
     "name": "stdout",
     "output_type": "stream",
     "text": [
      "\n",
      " Tuning XGBoost...\n"
     ]
    },
    {
     "name": "stderr",
     "output_type": "stream",
     "text": [
      "c:\\Users\\mukun\\OneDrive\\Desktop\\Vijayi_WFH technology\\Task1-Ticket classification\\venv\\Lib\\site-packages\\xgboost\\training.py:183: UserWarning: [16:05:27] WARNING: C:\\actions-runner\\_work\\xgboost\\xgboost\\src\\learner.cc:738: \n",
      "Parameters: { \"use_label_encoder\" } are not used.\n",
      "\n",
      "  bst.update(dtrain, iteration=i, fobj=obj)\n",
      "Tuning models: 100%|██████████| 4/4 [00:48<00:00, 12.15s/it]"
     ]
    },
    {
     "name": "stdout",
     "output_type": "stream",
     "text": [
      "\n",
      "Model Metrics:\n",
      "Model: XGBoost\n",
      "  Accuracy: 0.9639\n",
      "  F1 Score: 0.9638\n",
      "  Log Loss: 0.1147\n",
      "  Best Params: {'subsample': 0.7, 'n_estimators': 200, 'max_depth': 3, 'learning_rate': 0.1}\n",
      "\n",
      "Model: RandomForest\n",
      "  Accuracy: 0.9518\n",
      "  F1 Score: 0.9518\n",
      "  Log Loss: 0.2803\n",
      "  Best Params: {'n_estimators': 100, 'min_samples_split': 2, 'max_depth': 20}\n",
      "\n",
      "Model: LinearSVC\n",
      "  Accuracy: 0.8795\n",
      "  F1 Score: 0.8785\n",
      "  Log Loss: 0.8721\n",
      "  Best Params: {'C': 100}\n",
      "\n",
      "Model: LogisticRegression\n",
      "  Accuracy: 0.4940\n",
      "  F1 Score: 0.4283\n",
      "  Log Loss: 1.7128\n",
      "  Best Params: {'penalty': 'l1', 'C': 100}\n",
      "\n"
     ]
    },
    {
     "name": "stderr",
     "output_type": "stream",
     "text": [
      "\n"
     ]
    }
   ],
   "source": [
    "best_model, best_score, results_df = hyperparameter_tuning(X_train_issue, y_issue_train_enc, X_test_issue, y_issue_test_enc, models_params)\n",
    "\n",
    "print(\"\\nModel Metrics:\")\n",
    "for idx, row in results_df.iterrows():\n",
    "    print(f\"Model: {row['model']}\")\n",
    "    print(f\"  Accuracy: {row['accuracy']:.4f}\")\n",
    "    print(f\"  F1 Score: {row['f1_score']:.4f}\")\n",
    "    print(f\"  Log Loss: {row['log_loss']:.4f}\" if row['log_loss'] is not None else \"  Log Loss: N/A\")\n",
    "    print(f\"  Best Params: {row['best_params']}\\n\")"
   ]
  },
  {
   "cell_type": "markdown",
   "id": "86e983ab",
   "metadata": {},
   "source": [
    "## Creating pipeline to train and predict the data"
   ]
  },
  {
   "cell_type": "code",
   "execution_count": 29,
   "id": "6319f4ce",
   "metadata": {},
   "outputs": [],
   "source": [
    "from sklearn.pipeline import Pipeline, FeatureUnion\n",
    "from sklearn.base import BaseEstimator, TransformerMixin\n",
    "from gensim.utils import simple_preprocess"
   ]
  },
  {
   "cell_type": "code",
   "execution_count": 31,
   "id": "3c0bb931",
   "metadata": {},
   "outputs": [],
   "source": [
    "def preprocess_series(series):\n",
    "\t# Replace this with your actual preprocessing logic\n",
    "\treturn series.apply(lambda x: x.lower().split())\n",
    "\n",
    "preprocess_transformer = joblib.load('../models/preprocess_transformer.pkl')"
   ]
  },
  {
   "cell_type": "code",
   "execution_count": null,
   "id": "d48c3e92",
   "metadata": {},
   "outputs": [
    {
     "data": {
      "text/plain": [
       "0    [payment, issue, for, my, smartwatch, v2., i, ...\n",
       "dtype: object"
      ]
     },
     "execution_count": 32,
     "metadata": {},
     "output_type": "execute_result"
    }
   ],
   "source": [
    "def preprocess_series(series):\n",
    "\t# Replace this with your actual preprocessing logic\n",
    "\treturn series.apply(lambda x: x.lower().split())\n",
    "\n",
    "preprocess_transformer.transform(pd.Series(['Payment issue for my SmartWatch V2. I was underbilled for order #29224']))"
   ]
  },
  {
   "cell_type": "code",
   "execution_count": null,
   "id": "9ed5af7d",
   "metadata": {},
   "outputs": [],
   "source": [
    "custom_feature_transformer  = joblib.load('../models/custom_feature_transformer.pkl')"
   ]
  },
  {
   "cell_type": "code",
   "execution_count": 34,
   "id": "05d3cfe2",
   "metadata": {},
   "outputs": [
    {
     "data": {
      "text/html": [
       "<div>\n",
       "<style scoped>\n",
       "    .dataframe tbody tr th:only-of-type {\n",
       "        vertical-align: middle;\n",
       "    }\n",
       "\n",
       "    .dataframe tbody tr th {\n",
       "        vertical-align: top;\n",
       "    }\n",
       "\n",
       "    .dataframe thead th {\n",
       "        text-align: right;\n",
       "    }\n",
       "</style>\n",
       "<table border=\"1\" class=\"dataframe\">\n",
       "  <thead>\n",
       "    <tr style=\"text-align: right;\">\n",
       "      <th></th>\n",
       "      <th>text_length</th>\n",
       "      <th>sentiment</th>\n",
       "    </tr>\n",
       "  </thead>\n",
       "  <tbody>\n",
       "    <tr>\n",
       "      <th>0</th>\n",
       "      <td>35</td>\n",
       "      <td>0.0</td>\n",
       "    </tr>\n",
       "  </tbody>\n",
       "</table>\n",
       "</div>"
      ],
      "text/plain": [
       "   text_length  sentiment\n",
       "0           35        0.0"
      ]
     },
     "execution_count": 34,
     "metadata": {},
     "output_type": "execute_result"
    }
   ],
   "source": [
    "custom_feature_transformer .transform(pd.Series(['Payment issue for my SmartWatch V2.']))"
   ]
  },
  {
   "cell_type": "code",
   "execution_count": 35,
   "id": "54b56fde",
   "metadata": {},
   "outputs": [],
   "source": [
    "# Word2Vec vectorizer\n",
    "class Word2VecVectorizer(BaseEstimator, TransformerMixin):\n",
    "    def __init__(self, model):\n",
    "        self.model = model\n",
    "    \n",
    "    def fit(self, X, y=None):\n",
    "        return self\n",
    "    \n",
    "    def transform(self, X):\n",
    "        return np.vstack(X.apply(self._document_vector).values)\n",
    "    \n",
    "    def _document_vector(self, tokens):\n",
    "        tokens = [t for t in tokens if t in self.model.wv]\n",
    "        if len(tokens) == 0:\n",
    "            return np.zeros(self.model.vector_size)\n",
    "        return np.mean(self.model.wv[tokens], axis=0)"
   ]
  },
  {
   "cell_type": "code",
   "execution_count": 36,
   "id": "23c75d88",
   "metadata": {},
   "outputs": [],
   "source": [
    "pipeline_w2v = Pipeline([\n",
    "    ('tokens', preprocess_transformer),\n",
    "    ('w2v', Word2VecVectorizer(model=w2v_model))\n",
    "])"
   ]
  },
  {
   "cell_type": "code",
   "execution_count": 37,
   "id": "8460f507",
   "metadata": {},
   "outputs": [],
   "source": [
    "pipeline_custom_feats = Pipeline([\n",
    "    ('custom_feats', custom_feature_transformer)\n",
    "])"
   ]
  },
  {
   "cell_type": "code",
   "execution_count": 38,
   "id": "b099c68c",
   "metadata": {},
   "outputs": [],
   "source": [
    "combined_features = FeatureUnion([\n",
    "    ('w2v', pipeline_w2v),\n",
    "    ('custom_feats', pipeline_custom_feats)\n",
    "])"
   ]
  },
  {
   "cell_type": "code",
   "execution_count": 39,
   "id": "0c189ba7",
   "metadata": {},
   "outputs": [],
   "source": [
    "full_pipeline = Pipeline([\n",
    "    ('features', combined_features),\n",
    "    ('classifier', best_model)\n",
    "])"
   ]
  },
  {
   "cell_type": "code",
   "execution_count": 40,
   "id": "1dabaf78",
   "metadata": {},
   "outputs": [
    {
     "name": "stderr",
     "output_type": "stream",
     "text": [
      "c:\\Users\\mukun\\OneDrive\\Desktop\\Vijayi_WFH technology\\Task1-Ticket classification\\venv\\Lib\\site-packages\\xgboost\\training.py:183: UserWarning: [16:06:16] WARNING: C:\\actions-runner\\_work\\xgboost\\xgboost\\src\\learner.cc:738: \n",
      "Parameters: { \"use_label_encoder\" } are not used.\n",
      "\n",
      "  bst.update(dtrain, iteration=i, fobj=obj)\n"
     ]
    },
    {
     "data": {
      "text/html": [
       "<style>#sk-container-id-1 {\n",
       "  /* Definition of color scheme common for light and dark mode */\n",
       "  --sklearn-color-text: #000;\n",
       "  --sklearn-color-text-muted: #666;\n",
       "  --sklearn-color-line: gray;\n",
       "  /* Definition of color scheme for unfitted estimators */\n",
       "  --sklearn-color-unfitted-level-0: #fff5e6;\n",
       "  --sklearn-color-unfitted-level-1: #f6e4d2;\n",
       "  --sklearn-color-unfitted-level-2: #ffe0b3;\n",
       "  --sklearn-color-unfitted-level-3: chocolate;\n",
       "  /* Definition of color scheme for fitted estimators */\n",
       "  --sklearn-color-fitted-level-0: #f0f8ff;\n",
       "  --sklearn-color-fitted-level-1: #d4ebff;\n",
       "  --sklearn-color-fitted-level-2: #b3dbfd;\n",
       "  --sklearn-color-fitted-level-3: cornflowerblue;\n",
       "\n",
       "  /* Specific color for light theme */\n",
       "  --sklearn-color-text-on-default-background: var(--sg-text-color, var(--theme-code-foreground, var(--jp-content-font-color1, black)));\n",
       "  --sklearn-color-background: var(--sg-background-color, var(--theme-background, var(--jp-layout-color0, white)));\n",
       "  --sklearn-color-border-box: var(--sg-text-color, var(--theme-code-foreground, var(--jp-content-font-color1, black)));\n",
       "  --sklearn-color-icon: #696969;\n",
       "\n",
       "  @media (prefers-color-scheme: dark) {\n",
       "    /* Redefinition of color scheme for dark theme */\n",
       "    --sklearn-color-text-on-default-background: var(--sg-text-color, var(--theme-code-foreground, var(--jp-content-font-color1, white)));\n",
       "    --sklearn-color-background: var(--sg-background-color, var(--theme-background, var(--jp-layout-color0, #111)));\n",
       "    --sklearn-color-border-box: var(--sg-text-color, var(--theme-code-foreground, var(--jp-content-font-color1, white)));\n",
       "    --sklearn-color-icon: #878787;\n",
       "  }\n",
       "}\n",
       "\n",
       "#sk-container-id-1 {\n",
       "  color: var(--sklearn-color-text);\n",
       "}\n",
       "\n",
       "#sk-container-id-1 pre {\n",
       "  padding: 0;\n",
       "}\n",
       "\n",
       "#sk-container-id-1 input.sk-hidden--visually {\n",
       "  border: 0;\n",
       "  clip: rect(1px 1px 1px 1px);\n",
       "  clip: rect(1px, 1px, 1px, 1px);\n",
       "  height: 1px;\n",
       "  margin: -1px;\n",
       "  overflow: hidden;\n",
       "  padding: 0;\n",
       "  position: absolute;\n",
       "  width: 1px;\n",
       "}\n",
       "\n",
       "#sk-container-id-1 div.sk-dashed-wrapped {\n",
       "  border: 1px dashed var(--sklearn-color-line);\n",
       "  margin: 0 0.4em 0.5em 0.4em;\n",
       "  box-sizing: border-box;\n",
       "  padding-bottom: 0.4em;\n",
       "  background-color: var(--sklearn-color-background);\n",
       "}\n",
       "\n",
       "#sk-container-id-1 div.sk-container {\n",
       "  /* jupyter's `normalize.less` sets `[hidden] { display: none; }`\n",
       "     but bootstrap.min.css set `[hidden] { display: none !important; }`\n",
       "     so we also need the `!important` here to be able to override the\n",
       "     default hidden behavior on the sphinx rendered scikit-learn.org.\n",
       "     See: https://github.com/scikit-learn/scikit-learn/issues/21755 */\n",
       "  display: inline-block !important;\n",
       "  position: relative;\n",
       "}\n",
       "\n",
       "#sk-container-id-1 div.sk-text-repr-fallback {\n",
       "  display: none;\n",
       "}\n",
       "\n",
       "div.sk-parallel-item,\n",
       "div.sk-serial,\n",
       "div.sk-item {\n",
       "  /* draw centered vertical line to link estimators */\n",
       "  background-image: linear-gradient(var(--sklearn-color-text-on-default-background), var(--sklearn-color-text-on-default-background));\n",
       "  background-size: 2px 100%;\n",
       "  background-repeat: no-repeat;\n",
       "  background-position: center center;\n",
       "}\n",
       "\n",
       "/* Parallel-specific style estimator block */\n",
       "\n",
       "#sk-container-id-1 div.sk-parallel-item::after {\n",
       "  content: \"\";\n",
       "  width: 100%;\n",
       "  border-bottom: 2px solid var(--sklearn-color-text-on-default-background);\n",
       "  flex-grow: 1;\n",
       "}\n",
       "\n",
       "#sk-container-id-1 div.sk-parallel {\n",
       "  display: flex;\n",
       "  align-items: stretch;\n",
       "  justify-content: center;\n",
       "  background-color: var(--sklearn-color-background);\n",
       "  position: relative;\n",
       "}\n",
       "\n",
       "#sk-container-id-1 div.sk-parallel-item {\n",
       "  display: flex;\n",
       "  flex-direction: column;\n",
       "}\n",
       "\n",
       "#sk-container-id-1 div.sk-parallel-item:first-child::after {\n",
       "  align-self: flex-end;\n",
       "  width: 50%;\n",
       "}\n",
       "\n",
       "#sk-container-id-1 div.sk-parallel-item:last-child::after {\n",
       "  align-self: flex-start;\n",
       "  width: 50%;\n",
       "}\n",
       "\n",
       "#sk-container-id-1 div.sk-parallel-item:only-child::after {\n",
       "  width: 0;\n",
       "}\n",
       "\n",
       "/* Serial-specific style estimator block */\n",
       "\n",
       "#sk-container-id-1 div.sk-serial {\n",
       "  display: flex;\n",
       "  flex-direction: column;\n",
       "  align-items: center;\n",
       "  background-color: var(--sklearn-color-background);\n",
       "  padding-right: 1em;\n",
       "  padding-left: 1em;\n",
       "}\n",
       "\n",
       "\n",
       "/* Toggleable style: style used for estimator/Pipeline/ColumnTransformer box that is\n",
       "clickable and can be expanded/collapsed.\n",
       "- Pipeline and ColumnTransformer use this feature and define the default style\n",
       "- Estimators will overwrite some part of the style using the `sk-estimator` class\n",
       "*/\n",
       "\n",
       "/* Pipeline and ColumnTransformer style (default) */\n",
       "\n",
       "#sk-container-id-1 div.sk-toggleable {\n",
       "  /* Default theme specific background. It is overwritten whether we have a\n",
       "  specific estimator or a Pipeline/ColumnTransformer */\n",
       "  background-color: var(--sklearn-color-background);\n",
       "}\n",
       "\n",
       "/* Toggleable label */\n",
       "#sk-container-id-1 label.sk-toggleable__label {\n",
       "  cursor: pointer;\n",
       "  display: flex;\n",
       "  width: 100%;\n",
       "  margin-bottom: 0;\n",
       "  padding: 0.5em;\n",
       "  box-sizing: border-box;\n",
       "  text-align: center;\n",
       "  align-items: start;\n",
       "  justify-content: space-between;\n",
       "  gap: 0.5em;\n",
       "}\n",
       "\n",
       "#sk-container-id-1 label.sk-toggleable__label .caption {\n",
       "  font-size: 0.6rem;\n",
       "  font-weight: lighter;\n",
       "  color: var(--sklearn-color-text-muted);\n",
       "}\n",
       "\n",
       "#sk-container-id-1 label.sk-toggleable__label-arrow:before {\n",
       "  /* Arrow on the left of the label */\n",
       "  content: \"▸\";\n",
       "  float: left;\n",
       "  margin-right: 0.25em;\n",
       "  color: var(--sklearn-color-icon);\n",
       "}\n",
       "\n",
       "#sk-container-id-1 label.sk-toggleable__label-arrow:hover:before {\n",
       "  color: var(--sklearn-color-text);\n",
       "}\n",
       "\n",
       "/* Toggleable content - dropdown */\n",
       "\n",
       "#sk-container-id-1 div.sk-toggleable__content {\n",
       "  max-height: 0;\n",
       "  max-width: 0;\n",
       "  overflow: hidden;\n",
       "  text-align: left;\n",
       "  /* unfitted */\n",
       "  background-color: var(--sklearn-color-unfitted-level-0);\n",
       "}\n",
       "\n",
       "#sk-container-id-1 div.sk-toggleable__content.fitted {\n",
       "  /* fitted */\n",
       "  background-color: var(--sklearn-color-fitted-level-0);\n",
       "}\n",
       "\n",
       "#sk-container-id-1 div.sk-toggleable__content pre {\n",
       "  margin: 0.2em;\n",
       "  border-radius: 0.25em;\n",
       "  color: var(--sklearn-color-text);\n",
       "  /* unfitted */\n",
       "  background-color: var(--sklearn-color-unfitted-level-0);\n",
       "}\n",
       "\n",
       "#sk-container-id-1 div.sk-toggleable__content.fitted pre {\n",
       "  /* unfitted */\n",
       "  background-color: var(--sklearn-color-fitted-level-0);\n",
       "}\n",
       "\n",
       "#sk-container-id-1 input.sk-toggleable__control:checked~div.sk-toggleable__content {\n",
       "  /* Expand drop-down */\n",
       "  max-height: 200px;\n",
       "  max-width: 100%;\n",
       "  overflow: auto;\n",
       "}\n",
       "\n",
       "#sk-container-id-1 input.sk-toggleable__control:checked~label.sk-toggleable__label-arrow:before {\n",
       "  content: \"▾\";\n",
       "}\n",
       "\n",
       "/* Pipeline/ColumnTransformer-specific style */\n",
       "\n",
       "#sk-container-id-1 div.sk-label input.sk-toggleable__control:checked~label.sk-toggleable__label {\n",
       "  color: var(--sklearn-color-text);\n",
       "  background-color: var(--sklearn-color-unfitted-level-2);\n",
       "}\n",
       "\n",
       "#sk-container-id-1 div.sk-label.fitted input.sk-toggleable__control:checked~label.sk-toggleable__label {\n",
       "  background-color: var(--sklearn-color-fitted-level-2);\n",
       "}\n",
       "\n",
       "/* Estimator-specific style */\n",
       "\n",
       "/* Colorize estimator box */\n",
       "#sk-container-id-1 div.sk-estimator input.sk-toggleable__control:checked~label.sk-toggleable__label {\n",
       "  /* unfitted */\n",
       "  background-color: var(--sklearn-color-unfitted-level-2);\n",
       "}\n",
       "\n",
       "#sk-container-id-1 div.sk-estimator.fitted input.sk-toggleable__control:checked~label.sk-toggleable__label {\n",
       "  /* fitted */\n",
       "  background-color: var(--sklearn-color-fitted-level-2);\n",
       "}\n",
       "\n",
       "#sk-container-id-1 div.sk-label label.sk-toggleable__label,\n",
       "#sk-container-id-1 div.sk-label label {\n",
       "  /* The background is the default theme color */\n",
       "  color: var(--sklearn-color-text-on-default-background);\n",
       "}\n",
       "\n",
       "/* On hover, darken the color of the background */\n",
       "#sk-container-id-1 div.sk-label:hover label.sk-toggleable__label {\n",
       "  color: var(--sklearn-color-text);\n",
       "  background-color: var(--sklearn-color-unfitted-level-2);\n",
       "}\n",
       "\n",
       "/* Label box, darken color on hover, fitted */\n",
       "#sk-container-id-1 div.sk-label.fitted:hover label.sk-toggleable__label.fitted {\n",
       "  color: var(--sklearn-color-text);\n",
       "  background-color: var(--sklearn-color-fitted-level-2);\n",
       "}\n",
       "\n",
       "/* Estimator label */\n",
       "\n",
       "#sk-container-id-1 div.sk-label label {\n",
       "  font-family: monospace;\n",
       "  font-weight: bold;\n",
       "  display: inline-block;\n",
       "  line-height: 1.2em;\n",
       "}\n",
       "\n",
       "#sk-container-id-1 div.sk-label-container {\n",
       "  text-align: center;\n",
       "}\n",
       "\n",
       "/* Estimator-specific */\n",
       "#sk-container-id-1 div.sk-estimator {\n",
       "  font-family: monospace;\n",
       "  border: 1px dotted var(--sklearn-color-border-box);\n",
       "  border-radius: 0.25em;\n",
       "  box-sizing: border-box;\n",
       "  margin-bottom: 0.5em;\n",
       "  /* unfitted */\n",
       "  background-color: var(--sklearn-color-unfitted-level-0);\n",
       "}\n",
       "\n",
       "#sk-container-id-1 div.sk-estimator.fitted {\n",
       "  /* fitted */\n",
       "  background-color: var(--sklearn-color-fitted-level-0);\n",
       "}\n",
       "\n",
       "/* on hover */\n",
       "#sk-container-id-1 div.sk-estimator:hover {\n",
       "  /* unfitted */\n",
       "  background-color: var(--sklearn-color-unfitted-level-2);\n",
       "}\n",
       "\n",
       "#sk-container-id-1 div.sk-estimator.fitted:hover {\n",
       "  /* fitted */\n",
       "  background-color: var(--sklearn-color-fitted-level-2);\n",
       "}\n",
       "\n",
       "/* Specification for estimator info (e.g. \"i\" and \"?\") */\n",
       "\n",
       "/* Common style for \"i\" and \"?\" */\n",
       "\n",
       ".sk-estimator-doc-link,\n",
       "a:link.sk-estimator-doc-link,\n",
       "a:visited.sk-estimator-doc-link {\n",
       "  float: right;\n",
       "  font-size: smaller;\n",
       "  line-height: 1em;\n",
       "  font-family: monospace;\n",
       "  background-color: var(--sklearn-color-background);\n",
       "  border-radius: 1em;\n",
       "  height: 1em;\n",
       "  width: 1em;\n",
       "  text-decoration: none !important;\n",
       "  margin-left: 0.5em;\n",
       "  text-align: center;\n",
       "  /* unfitted */\n",
       "  border: var(--sklearn-color-unfitted-level-1) 1pt solid;\n",
       "  color: var(--sklearn-color-unfitted-level-1);\n",
       "}\n",
       "\n",
       ".sk-estimator-doc-link.fitted,\n",
       "a:link.sk-estimator-doc-link.fitted,\n",
       "a:visited.sk-estimator-doc-link.fitted {\n",
       "  /* fitted */\n",
       "  border: var(--sklearn-color-fitted-level-1) 1pt solid;\n",
       "  color: var(--sklearn-color-fitted-level-1);\n",
       "}\n",
       "\n",
       "/* On hover */\n",
       "div.sk-estimator:hover .sk-estimator-doc-link:hover,\n",
       ".sk-estimator-doc-link:hover,\n",
       "div.sk-label-container:hover .sk-estimator-doc-link:hover,\n",
       ".sk-estimator-doc-link:hover {\n",
       "  /* unfitted */\n",
       "  background-color: var(--sklearn-color-unfitted-level-3);\n",
       "  color: var(--sklearn-color-background);\n",
       "  text-decoration: none;\n",
       "}\n",
       "\n",
       "div.sk-estimator.fitted:hover .sk-estimator-doc-link.fitted:hover,\n",
       ".sk-estimator-doc-link.fitted:hover,\n",
       "div.sk-label-container:hover .sk-estimator-doc-link.fitted:hover,\n",
       ".sk-estimator-doc-link.fitted:hover {\n",
       "  /* fitted */\n",
       "  background-color: var(--sklearn-color-fitted-level-3);\n",
       "  color: var(--sklearn-color-background);\n",
       "  text-decoration: none;\n",
       "}\n",
       "\n",
       "/* Span, style for the box shown on hovering the info icon */\n",
       ".sk-estimator-doc-link span {\n",
       "  display: none;\n",
       "  z-index: 9999;\n",
       "  position: relative;\n",
       "  font-weight: normal;\n",
       "  right: .2ex;\n",
       "  padding: .5ex;\n",
       "  margin: .5ex;\n",
       "  width: min-content;\n",
       "  min-width: 20ex;\n",
       "  max-width: 50ex;\n",
       "  color: var(--sklearn-color-text);\n",
       "  box-shadow: 2pt 2pt 4pt #999;\n",
       "  /* unfitted */\n",
       "  background: var(--sklearn-color-unfitted-level-0);\n",
       "  border: .5pt solid var(--sklearn-color-unfitted-level-3);\n",
       "}\n",
       "\n",
       ".sk-estimator-doc-link.fitted span {\n",
       "  /* fitted */\n",
       "  background: var(--sklearn-color-fitted-level-0);\n",
       "  border: var(--sklearn-color-fitted-level-3);\n",
       "}\n",
       "\n",
       ".sk-estimator-doc-link:hover span {\n",
       "  display: block;\n",
       "}\n",
       "\n",
       "/* \"?\"-specific style due to the `<a>` HTML tag */\n",
       "\n",
       "#sk-container-id-1 a.estimator_doc_link {\n",
       "  float: right;\n",
       "  font-size: 1rem;\n",
       "  line-height: 1em;\n",
       "  font-family: monospace;\n",
       "  background-color: var(--sklearn-color-background);\n",
       "  border-radius: 1rem;\n",
       "  height: 1rem;\n",
       "  width: 1rem;\n",
       "  text-decoration: none;\n",
       "  /* unfitted */\n",
       "  color: var(--sklearn-color-unfitted-level-1);\n",
       "  border: var(--sklearn-color-unfitted-level-1) 1pt solid;\n",
       "}\n",
       "\n",
       "#sk-container-id-1 a.estimator_doc_link.fitted {\n",
       "  /* fitted */\n",
       "  border: var(--sklearn-color-fitted-level-1) 1pt solid;\n",
       "  color: var(--sklearn-color-fitted-level-1);\n",
       "}\n",
       "\n",
       "/* On hover */\n",
       "#sk-container-id-1 a.estimator_doc_link:hover {\n",
       "  /* unfitted */\n",
       "  background-color: var(--sklearn-color-unfitted-level-3);\n",
       "  color: var(--sklearn-color-background);\n",
       "  text-decoration: none;\n",
       "}\n",
       "\n",
       "#sk-container-id-1 a.estimator_doc_link.fitted:hover {\n",
       "  /* fitted */\n",
       "  background-color: var(--sklearn-color-fitted-level-3);\n",
       "}\n",
       "</style><div id=\"sk-container-id-1\" class=\"sk-top-container\"><div class=\"sk-text-repr-fallback\"><pre>Pipeline(steps=[(&#x27;features&#x27;,\n",
       "                 FeatureUnion(transformer_list=[(&#x27;w2v&#x27;,\n",
       "                                                 Pipeline(steps=[(&#x27;tokens&#x27;,\n",
       "                                                                  FunctionTransformer(func=&lt;function preprocess_series at 0x000001CBDE204720&gt;)),\n",
       "                                                                 (&#x27;w2v&#x27;,\n",
       "                                                                  Word2VecVectorizer(model=&lt;gensim.models.word2vec.Word2Vec object at 0x000001CBDCA5E910&gt;))])),\n",
       "                                                (&#x27;custom_feats&#x27;,\n",
       "                                                 Pipeline(steps=[(&#x27;custom_feats&#x27;,\n",
       "                                                                  FunctionTransformer(func=&lt;function extr...\n",
       "                               feature_types=None, feature_weights=None,\n",
       "                               gamma=None, grow_policy=None,\n",
       "                               importance_type=None,\n",
       "                               interaction_constraints=None, learning_rate=0.1,\n",
       "                               max_bin=None, max_cat_threshold=None,\n",
       "                               max_cat_to_onehot=None, max_delta_step=None,\n",
       "                               max_depth=3, max_leaves=None,\n",
       "                               min_child_weight=None, missing=nan,\n",
       "                               monotone_constraints=None, multi_strategy=None,\n",
       "                               n_estimators=200, n_jobs=None,\n",
       "                               num_parallel_tree=None, ...))])</pre><b>In a Jupyter environment, please rerun this cell to show the HTML representation or trust the notebook. <br />On GitHub, the HTML representation is unable to render, please try loading this page with nbviewer.org.</b></div><div class=\"sk-container\" hidden><div class=\"sk-item sk-dashed-wrapped\"><div class=\"sk-label-container\"><div class=\"sk-label fitted sk-toggleable\"><input class=\"sk-toggleable__control sk-hidden--visually\" id=\"sk-estimator-id-1\" type=\"checkbox\" ><label for=\"sk-estimator-id-1\" class=\"sk-toggleable__label fitted sk-toggleable__label-arrow\"><div><div>Pipeline</div></div><div><a class=\"sk-estimator-doc-link fitted\" rel=\"noreferrer\" target=\"_blank\" href=\"https://scikit-learn.org/1.6/modules/generated/sklearn.pipeline.Pipeline.html\">?<span>Documentation for Pipeline</span></a><span class=\"sk-estimator-doc-link fitted\">i<span>Fitted</span></span></div></label><div class=\"sk-toggleable__content fitted\"><pre>Pipeline(steps=[(&#x27;features&#x27;,\n",
       "                 FeatureUnion(transformer_list=[(&#x27;w2v&#x27;,\n",
       "                                                 Pipeline(steps=[(&#x27;tokens&#x27;,\n",
       "                                                                  FunctionTransformer(func=&lt;function preprocess_series at 0x000001CBDE204720&gt;)),\n",
       "                                                                 (&#x27;w2v&#x27;,\n",
       "                                                                  Word2VecVectorizer(model=&lt;gensim.models.word2vec.Word2Vec object at 0x000001CBDCA5E910&gt;))])),\n",
       "                                                (&#x27;custom_feats&#x27;,\n",
       "                                                 Pipeline(steps=[(&#x27;custom_feats&#x27;,\n",
       "                                                                  FunctionTransformer(func=&lt;function extr...\n",
       "                               feature_types=None, feature_weights=None,\n",
       "                               gamma=None, grow_policy=None,\n",
       "                               importance_type=None,\n",
       "                               interaction_constraints=None, learning_rate=0.1,\n",
       "                               max_bin=None, max_cat_threshold=None,\n",
       "                               max_cat_to_onehot=None, max_delta_step=None,\n",
       "                               max_depth=3, max_leaves=None,\n",
       "                               min_child_weight=None, missing=nan,\n",
       "                               monotone_constraints=None, multi_strategy=None,\n",
       "                               n_estimators=200, n_jobs=None,\n",
       "                               num_parallel_tree=None, ...))])</pre></div> </div></div><div class=\"sk-serial\"><div class=\"sk-item sk-dashed-wrapped\"><div class=\"sk-label-container\"><div class=\"sk-label fitted sk-toggleable\"><input class=\"sk-toggleable__control sk-hidden--visually\" id=\"sk-estimator-id-2\" type=\"checkbox\" ><label for=\"sk-estimator-id-2\" class=\"sk-toggleable__label fitted sk-toggleable__label-arrow\"><div><div>features: FeatureUnion</div></div><div><a class=\"sk-estimator-doc-link fitted\" rel=\"noreferrer\" target=\"_blank\" href=\"https://scikit-learn.org/1.6/modules/generated/sklearn.pipeline.FeatureUnion.html\">?<span>Documentation for features: FeatureUnion</span></a></div></label><div class=\"sk-toggleable__content fitted\"><pre>FeatureUnion(transformer_list=[(&#x27;w2v&#x27;,\n",
       "                                Pipeline(steps=[(&#x27;tokens&#x27;,\n",
       "                                                 FunctionTransformer(func=&lt;function preprocess_series at 0x000001CBDE204720&gt;)),\n",
       "                                                (&#x27;w2v&#x27;,\n",
       "                                                 Word2VecVectorizer(model=&lt;gensim.models.word2vec.Word2Vec object at 0x000001CBDCA5E910&gt;))])),\n",
       "                               (&#x27;custom_feats&#x27;,\n",
       "                                Pipeline(steps=[(&#x27;custom_feats&#x27;,\n",
       "                                                 FunctionTransformer(func=&lt;function extract_custom_features at 0x000001CBDDEDA3E0&gt;))]))])</pre></div> </div></div><div class=\"sk-parallel\"><div class=\"sk-parallel-item\"><div class=\"sk-item\"><div class=\"sk-label-container\"><div class=\"sk-label fitted sk-toggleable\"><label>w2v</label></div></div><div class=\"sk-serial\"><div class=\"sk-item\"><div class=\"sk-serial\"><div class=\"sk-item\"><div class=\"sk-estimator fitted sk-toggleable\"><input class=\"sk-toggleable__control sk-hidden--visually\" id=\"sk-estimator-id-3\" type=\"checkbox\" ><label for=\"sk-estimator-id-3\" class=\"sk-toggleable__label fitted sk-toggleable__label-arrow\"><div><div>preprocess_series</div><div class=\"caption\">FunctionTransformer</div></div><div><a class=\"sk-estimator-doc-link fitted\" rel=\"noreferrer\" target=\"_blank\" href=\"https://scikit-learn.org/1.6/modules/generated/sklearn.preprocessing.FunctionTransformer.html\">?<span>Documentation for FunctionTransformer</span></a></div></label><div class=\"sk-toggleable__content fitted\"><pre>FunctionTransformer(func=&lt;function preprocess_series at 0x000001CBDE204720&gt;)</pre></div> </div></div><div class=\"sk-item\"><div class=\"sk-estimator fitted sk-toggleable\"><input class=\"sk-toggleable__control sk-hidden--visually\" id=\"sk-estimator-id-4\" type=\"checkbox\" ><label for=\"sk-estimator-id-4\" class=\"sk-toggleable__label fitted sk-toggleable__label-arrow\"><div><div>Word2VecVectorizer</div></div></label><div class=\"sk-toggleable__content fitted\"><pre>Word2VecVectorizer(model=&lt;gensim.models.word2vec.Word2Vec object at 0x000001CBDCA5E910&gt;)</pre></div> </div></div></div></div></div></div></div><div class=\"sk-parallel-item\"><div class=\"sk-item\"><div class=\"sk-label-container\"><div class=\"sk-label fitted sk-toggleable\"><label>custom_feats</label></div></div><div class=\"sk-serial\"><div class=\"sk-item\"><div class=\"sk-serial\"><div class=\"sk-item\"><div class=\"sk-estimator fitted sk-toggleable\"><input class=\"sk-toggleable__control sk-hidden--visually\" id=\"sk-estimator-id-5\" type=\"checkbox\" ><label for=\"sk-estimator-id-5\" class=\"sk-toggleable__label fitted sk-toggleable__label-arrow\"><div><div>extract_custom_features</div><div class=\"caption\">FunctionTransformer</div></div><div><a class=\"sk-estimator-doc-link fitted\" rel=\"noreferrer\" target=\"_blank\" href=\"https://scikit-learn.org/1.6/modules/generated/sklearn.preprocessing.FunctionTransformer.html\">?<span>Documentation for FunctionTransformer</span></a></div></label><div class=\"sk-toggleable__content fitted\"><pre>FunctionTransformer(func=&lt;function extract_custom_features at 0x000001CBDDEDA3E0&gt;)</pre></div> </div></div></div></div></div></div></div></div></div><div class=\"sk-item\"><div class=\"sk-estimator fitted sk-toggleable\"><input class=\"sk-toggleable__control sk-hidden--visually\" id=\"sk-estimator-id-6\" type=\"checkbox\" ><label for=\"sk-estimator-id-6\" class=\"sk-toggleable__label fitted sk-toggleable__label-arrow\"><div><div>XGBClassifier</div></div><div><a class=\"sk-estimator-doc-link fitted\" rel=\"noreferrer\" target=\"_blank\" href=\"https://xgboost.readthedocs.io/en/release_3.0.0/python/python_api.html#xgboost.XGBClassifier\">?<span>Documentation for XGBClassifier</span></a></div></label><div class=\"sk-toggleable__content fitted\"><pre>XGBClassifier(base_score=None, booster=None, callbacks=None,\n",
       "              colsample_bylevel=None, colsample_bynode=None,\n",
       "              colsample_bytree=None, device=None, early_stopping_rounds=None,\n",
       "              enable_categorical=False, eval_metric=&#x27;mlogloss&#x27;,\n",
       "              feature_types=None, feature_weights=None, gamma=None,\n",
       "              grow_policy=None, importance_type=None,\n",
       "              interaction_constraints=None, learning_rate=0.1, max_bin=None,\n",
       "              max_cat_threshold=None, max_cat_to_onehot=None,\n",
       "              max_delta_step=None, max_depth=3, max_leaves=None,\n",
       "              min_child_weight=None, missing=nan, monotone_constraints=None,\n",
       "              multi_strategy=None, n_estimators=200, n_jobs=None,\n",
       "              num_parallel_tree=None, ...)</pre></div> </div></div></div></div></div></div>"
      ],
      "text/plain": [
       "Pipeline(steps=[('features',\n",
       "                 FeatureUnion(transformer_list=[('w2v',\n",
       "                                                 Pipeline(steps=[('tokens',\n",
       "                                                                  FunctionTransformer(func=<function preprocess_series at 0x000001CBDE204720>)),\n",
       "                                                                 ('w2v',\n",
       "                                                                  Word2VecVectorizer(model=<gensim.models.word2vec.Word2Vec object at 0x000001CBDCA5E910>))])),\n",
       "                                                ('custom_feats',\n",
       "                                                 Pipeline(steps=[('custom_feats',\n",
       "                                                                  FunctionTransformer(func=<function extr...\n",
       "                               feature_types=None, feature_weights=None,\n",
       "                               gamma=None, grow_policy=None,\n",
       "                               importance_type=None,\n",
       "                               interaction_constraints=None, learning_rate=0.1,\n",
       "                               max_bin=None, max_cat_threshold=None,\n",
       "                               max_cat_to_onehot=None, max_delta_step=None,\n",
       "                               max_depth=3, max_leaves=None,\n",
       "                               min_child_weight=None, missing=nan,\n",
       "                               monotone_constraints=None, multi_strategy=None,\n",
       "                               n_estimators=200, n_jobs=None,\n",
       "                               num_parallel_tree=None, ...))])"
      ]
     },
     "execution_count": 40,
     "metadata": {},
     "output_type": "execute_result"
    }
   ],
   "source": [
    "# Fit the pipeline on raw ticket text, not on precomputed features\n",
    "full_pipeline.fit(df['ticket_text'].loc[y_train_issue.index], y_issue_train_enc)"
   ]
  },
  {
   "cell_type": "code",
   "execution_count": 41,
   "id": "cf953648",
   "metadata": {},
   "outputs": [
    {
     "data": {
      "text/plain": [
       "['../pipeline/issue_type_pipeline.pkl']"
      ]
     },
     "execution_count": 41,
     "metadata": {},
     "output_type": "execute_result"
    }
   ],
   "source": [
    "joblib.dump(full_pipeline, '../pipeline/issue_type_pipeline.pkl')"
   ]
  },
  {
   "cell_type": "code",
   "execution_count": 42,
   "id": "94461c66",
   "metadata": {},
   "outputs": [
    {
     "name": "stdout",
     "output_type": "stream",
     "text": [
      "                    precision    recall  f1-score   support\n",
      "\n",
      "    Account Access       0.85      0.85      0.85        27\n",
      "   Billing Problem       0.86      0.92      0.89        26\n",
      "   General Inquiry       0.92      0.96      0.94        25\n",
      "Installation Issue       0.96      1.00      0.98        26\n",
      "     Late Delivery       0.95      1.00      0.97        19\n",
      "    Product Defect       1.00      0.77      0.87        22\n",
      "        Wrong Item       0.81      0.81      0.81        21\n",
      "\n",
      "          accuracy                           0.90       166\n",
      "         macro avg       0.91      0.90      0.90       166\n",
      "      weighted avg       0.91      0.90      0.90       166\n",
      "\n"
     ]
    },
    {
     "name": "stderr",
     "output_type": "stream",
     "text": [
      "c:\\Users\\mukun\\OneDrive\\Desktop\\Vijayi_WFH technology\\Task1-Ticket classification\\venv\\Lib\\site-packages\\sklearn\\pipeline.py:62: FutureWarning: This Pipeline instance is not fitted yet. Call 'fit' with appropriate arguments before using other methods such as transform, predict, etc. This will raise an error in 1.8 instead of the current warning.\n",
      "  warnings.warn(\n"
     ]
    }
   ],
   "source": [
    "loaded_pipeline = joblib.load('../pipeline/issue_type_pipeline.pkl')\n",
    "label_encoder = joblib.load('../models/issue_encoder.pkl')\n",
    "\n",
    "# Predict\n",
    "preds = loaded_pipeline.predict(df['ticket_text'].loc[y_test_issue.index])\n",
    "print(classification_report(y_test_issue, label_encoder.inverse_transform(preds)))\n",
    "\n"
   ]
  },
  {
   "cell_type": "code",
   "execution_count": 43,
   "id": "b011e8fc",
   "metadata": {},
   "outputs": [
    {
     "name": "stdout",
     "output_type": "stream",
     "text": [
      "['General Inquiry']\n"
     ]
    },
    {
     "name": "stderr",
     "output_type": "stream",
     "text": [
      "c:\\Users\\mukun\\OneDrive\\Desktop\\Vijayi_WFH technology\\Task1-Ticket classification\\venv\\Lib\\site-packages\\sklearn\\pipeline.py:62: FutureWarning: This Pipeline instance is not fitted yet. Call 'fit' with appropriate arguments before using other methods such as transform, predict, etc. This will raise an error in 1.8 instead of the current warning.\n",
      "  warnings.warn(\n"
     ]
    }
   ],
   "source": [
    "pred = loaded_pipeline.predict(pd.Series(['Can you tell me more about the PhotoSnap Cam warranty? Also, is it available in red']))\n",
    "final_preds = label_encoder.inverse_transform(pred)\n",
    "print(final_preds)"
   ]
  },
  {
   "cell_type": "code",
   "execution_count": null,
   "id": "71748846",
   "metadata": {},
   "outputs": [],
   "source": []
  }
 ],
 "metadata": {
  "kernelspec": {
   "display_name": "venv",
   "language": "python",
   "name": "python3"
  },
  "language_info": {
   "codemirror_mode": {
    "name": "ipython",
    "version": 3
   },
   "file_extension": ".py",
   "mimetype": "text/x-python",
   "name": "python",
   "nbconvert_exporter": "python",
   "pygments_lexer": "ipython3",
   "version": "3.11.3"
  }
 },
 "nbformat": 4,
 "nbformat_minor": 5
}
